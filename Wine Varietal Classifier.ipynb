{
 "cells": [
  {
   "cell_type": "code",
   "execution_count": 1,
   "metadata": {
    "collapsed": true
   },
   "outputs": [],
   "source": [
    "# importing basic libraries\n",
    "import numpy as np\n",
    "import pandas as pd\n",
    "import matplotlib.pyplot as plt\n",
    "import nltk\n",
    "%matplotlib inline"
   ]
  },
  {
   "cell_type": "code",
   "execution_count": 2,
   "metadata": {
    "collapsed": false
   },
   "outputs": [],
   "source": [
    "# importing dataset in csv fromat in dataset\n",
    "# converting dataset to numpy array(ds)\n",
    "import random\n",
    "dataset = pd.read_csv('wine.csv')\n",
    "ds = dataset.iloc[:,:].values\n",
    "varietals = list(set(dataset.Varietal.values))\n",
    "\n",
    "# selecting only those varietals\n",
    "# that have more than 5 reviews\n",
    "# if a varietal has more than 100 reviews\n",
    "# then select any 100 randomly\n",
    "Data = np.empty((0,2))\n",
    "for i in varietals:\n",
    "    flagArray = ds[:,1] == i\n",
    "    ct = sum(flagArray)\n",
    "    if(ct<10):continue\n",
    "    if('Other' in i):continue\n",
    "    if(ct<=100):\n",
    "        Data = np.vstack((Data,ds[flagArray]))\n",
    "    else:\n",
    "        Data = np.vstack((Data,ds[flagArray][random.sample(range(ct),100)]))"
   ]
  },
  {
   "cell_type": "code",
   "execution_count": 3,
   "metadata": {
    "collapsed": false
   },
   "outputs": [],
   "source": [
    "# encoding the classes to integers\n",
    "# making a map to retrieve the name of the varietal\n",
    "# from the encoding\n",
    "from sklearn.preprocessing import LabelEncoder\n",
    "le = LabelEncoder()\n",
    "classes = le.fit_transform(Data[:,1])\n",
    "Label_to_Class = {}\n",
    "for i in range(len(classes)):\n",
    "    Label_to_Class[classes[i]] = Data[i,1]\n",
    "Data[:,1] = classes"
   ]
  },
  {
   "cell_type": "code",
   "execution_count": 4,
   "metadata": {
    "collapsed": true
   },
   "outputs": [],
   "source": [
    "from sklearn.model_selection import train_test_split\n",
    "X_train,X_test,y_train,y_test = train_test_split(Data[:,0],Data[:,1],test_size=1/3)"
   ]
  },
  {
   "cell_type": "code",
   "execution_count": 5,
   "metadata": {
    "collapsed": false
   },
   "outputs": [],
   "source": [
    "from nltk.corpus import stopwords\n",
    "from nltk.tokenize import word_tokenize\n",
    "from stemming.porter2 import stem\n",
    "from nltk.corpus import wordnet as wn\n",
    "import string\n",
    "\n",
    "# accepts a list of words\n",
    "# Lowercase all words\n",
    "# Remove words with apostrophe\n",
    "# remove stop words\n",
    "# remove punctuations in words\n",
    "def preprocessing(l):\n",
    "    stop_words = set(stopwords.words('english'))\n",
    "    word_tokens = [w.lower() for w in l if \"'\" not in w]\n",
    "    filtered_sentence = []\n",
    "    for w in word_tokens:\n",
    "        if(not w in stop_words):\n",
    "            filtered_sentence.append(w)\n",
    "    filtered_sentence = [stem(i) for i in filtered_sentence]\n",
    "    s = ' '.join(filtered_sentence)\n",
    "    return ''.join(c for c in s if c not in string.punctuation)"
   ]
  },
  {
   "cell_type": "code",
   "execution_count": 6,
   "metadata": {
    "collapsed": false
   },
   "outputs": [],
   "source": [
    "# accepts the defintion of the word from synset\n",
    "# return bag of words which are in definition and are verb/adverb/adjective/noun\n",
    "def gloss(definition):\n",
    "    qualitativeWords = []\n",
    "    tokenized = nltk.word_tokenize(definition)\n",
    "    tagged = nltk.pos_tag(tokenized)\n",
    "    for i in tagged:\n",
    "        if('NN' in i[1] or 'JJ' in i[1] or 'VB' in i[1] or 'RB' in i[1]):\n",
    "            qualitativeWords.append(i[0])\n",
    "    return qualitativeWords"
   ]
  },
  {
   "cell_type": "code",
   "execution_count": 7,
   "metadata": {
    "collapsed": false
   },
   "outputs": [],
   "source": [
    "# a-adjective v-verb n-noun r-adverb\n",
    "# take a review and generate some useful words\n",
    "def posTag(s):\n",
    "    qualitativeWords = []\n",
    "    for sentence in s.split('.'):\n",
    "        tokenized = nltk.word_tokenize(sentence)\n",
    "        tagged = nltk.pos_tag(tokenized)\n",
    "        for i in tagged:\n",
    "            try :\n",
    "                if('NN' in i[1]):\n",
    "                    qualitativeWords += gloss(wn.synset(i[0]+'.n.01').definition())\n",
    "                elif('JJ' in i[1]):\n",
    "                    qualitativeWords += gloss(wn.synset(i[0]+'.a.01').definition())\n",
    "                elif('VB' in i[1]):\n",
    "                    qualitativeWords += gloss(wn.synset(i[0]+'.v.01').definition())\n",
    "                elif('RB' in i[1]):\n",
    "                    qualitativeWords += gloss(wn.synset(i[0]+'.r.01').definition())\n",
    "                qualitativeWords.append(i[0])\n",
    "            except :\n",
    "                continue\n",
    "    return preprocessing(qualitativeWords)"
   ]
  },
  {
   "cell_type": "markdown",
   "metadata": {
    "collapsed": false
   },
   "source": [
    "# Preprocessing begins from below code:"
   ]
  },
  {
   "cell_type": "code",
   "execution_count": 8,
   "metadata": {
    "collapsed": false
   },
   "outputs": [],
   "source": [
    "# converting the training data to the bag of related words\n",
    "X_train_refine = []\n",
    "for i in range(X_train.shape[0]):\n",
    "    X_train_refine.append(posTag(X_train[i]))\n",
    "X_train_refine = np.array(X_train_refine)\n",
    "X_train_refine = X_train_refine.reshape((-1,1))"
   ]
  },
  {
   "cell_type": "code",
   "execution_count": 9,
   "metadata": {
    "collapsed": false
   },
   "outputs": [
    {
     "data": {
      "text/plain": [
       "TfidfVectorizer(analyzer='word', binary=False, decode_error='strict',\n",
       "        dtype=<class 'numpy.int64'>, encoding='utf-8', input='content',\n",
       "        lowercase=True, max_df=1.0, max_features=None, min_df=1,\n",
       "        ngram_range=(1, 1), norm='l2', preprocessor=None, smooth_idf=True,\n",
       "        stop_words=None, strip_accents=None, sublinear_tf=False,\n",
       "        token_pattern='(?u)\\\\b\\\\w\\\\w+\\\\b', tokenizer=None, use_idf=True,\n",
       "        vocabulary=None)"
      ]
     },
     "execution_count": 9,
     "metadata": {},
     "output_type": "execute_result"
    }
   ],
   "source": [
    "from sklearn.feature_extraction.text import TfidfVectorizer\n",
    "v = TfidfVectorizer()\n",
    "v.fit(X_train_refine[:,0])"
   ]
  },
  {
   "cell_type": "code",
   "execution_count": 10,
   "metadata": {
    "collapsed": false
   },
   "outputs": [],
   "source": [
    "x = v.transform(X_train_refine[:,0]).toarray()\n",
    "y = y_train.astype(int)"
   ]
  },
  {
   "cell_type": "code",
   "execution_count": 11,
   "metadata": {
    "collapsed": true
   },
   "outputs": [],
   "source": [
    "def predict1(review,tf_idf,clf):\n",
    "    review = preprocessing(review.split())\n",
    "    test = tf_idf.transform([review]).toarray()\n",
    "    return clf.predict(test)[0]"
   ]
  },
  {
   "cell_type": "code",
   "execution_count": 12,
   "metadata": {
    "collapsed": false
   },
   "outputs": [],
   "source": [
    "def predict2(review,tf_idf,clf):\n",
    "    review = posTag(review)\n",
    "    test = tf_idf.transform([review]).toarray()\n",
    "    return clf.predict(test)[0]"
   ]
  },
  {
   "cell_type": "markdown",
   "metadata": {},
   "source": [
    "# Training and Testing different Classifiers:"
   ]
  },
  {
   "cell_type": "code",
   "execution_count": 13,
   "metadata": {
    "collapsed": false
   },
   "outputs": [
    {
     "name": "stdout",
     "output_type": "stream",
     "text": [
      "Maximum Accuracy optained by K_Nearest_Neighbour is 53.63%\n"
     ]
    },
    {
     "data": {
      "image/png": "[encoded data removed]",
      "text/plain": [
       "<matplotlib.figure.Figure at 0x1e9b6588>"
      ]
     },
     "metadata": {},
     "output_type": "display_data"
    }
   ],
   "source": [
    "# implementing K_Nearest_neighbour_Classifier\n",
    "# getting optimal value of K\n",
    "from sklearn.neighbors import KNeighborsClassifier\n",
    "def K_Nearest_Neighbour(k,predict):   \n",
    "    clf = KNeighborsClassifier(n_neighbors=k)\n",
    "    clf.fit(x,y)\n",
    "    y_test_predictions = [predict(review,v,clf) for review in X_test]\n",
    "    return np.mean(y_test_predictions == y_test)\n",
    "\n",
    "result = [K_Nearest_Neighbour(k,predict1) for k in range(10,20)]\n",
    "plt.plot(range(10,20),result,marker='*',color='b')\n",
    "plt.xlabel('Neighbours')\n",
    "plt.ylabel('Accuracy in %')\n",
    "plt.title('KNN Analysis')\n",
    "optimal_K_neighbors = result.index(max(result)) + 10\n",
    "print(\"Maximum Accuracy optained by K_Nearest_Neighbour is {:.2f}%\".format(max(result)*100))"
   ]
  },
  {
   "cell_type": "code",
   "execution_count": 14,
   "metadata": {
    "collapsed": false,
    "scrolled": true
   },
   "outputs": [
    {
     "name": "stdout",
     "output_type": "stream",
     "text": [
      "Maximum Accuracy optained by Logistic_Regression_Classifier is 58.65%\n"
     ]
    },
    {
     "data": {
      "image/png": "[encoded data removed]",
      "text/plain": [
       "<matplotlib.figure.Figure at 0x1e9a6a90>"
      ]
     },
     "metadata": {},
     "output_type": "display_data"
    }
   ],
   "source": [
    "# implementing Logistic_Regression_Classifier\n",
    "# getting optimal value of C\n",
    "from sklearn.linear_model import LogisticRegression\n",
    "def Logistic_Regression_Classifier(c,predict):\n",
    "    clf = LogisticRegression(C=c)\n",
    "    clf.fit(x,y)\n",
    "    y_test_predictions = [predict(review,v,clf) for review in X_test]\n",
    "    return np.mean(y_test_predictions == y_test)\n",
    "\n",
    "result = [Logistic_Regression_Classifier(c,predict2) for c in range(20,60,5)]\n",
    "plt.plot(range(20,60,5),result,marker='*',color='b')\n",
    "plt.xlabel('C')\n",
    "plt.ylabel('Accuracy in %')\n",
    "plt.title('Logistic Regressor Analysis')\n",
    "optimal_C_LR = result.index(max(result))*5 + 20\n",
    "print(\"Maximum Accuracy optained by Logistic_Regression_Classifier is {:.2f}%\".format(max(result)*100))"
   ]
  },
  {
   "cell_type": "code",
   "execution_count": 15,
   "metadata": {
    "collapsed": false
   },
   "outputs": [
    {
     "name": "stdout",
     "output_type": "stream",
     "text": [
      "Maximum Accuracy optained by Decision_Tree_Classifier is 42.11%\n"
     ]
    },
    {
     "data": {
      "image/png": "[encoded data removed]",
      "text/plain": [
       "<matplotlib.figure.Figure at 0x1b88f128>"
      ]
     },
     "metadata": {},
     "output_type": "display_data"
    }
   ],
   "source": [
    "# implementing Decision_Tree_Classifier\n",
    "# getting optimal value of max_depth\n",
    "from sklearn.tree import DecisionTreeClassifier\n",
    "def Decision_Tree_Classifier(d,predict):\n",
    "    clf = DecisionTreeClassifier(max_depth=d)\n",
    "    clf.fit(x,y)\n",
    "    y_test_predictions = [predict(review,v,clf) for review in X_test]\n",
    "    return np.mean(y_test_predictions == y_test)\n",
    "\n",
    "result = [Decision_Tree_Classifier(d,predict2) for d in range(5,20)]\n",
    "plt.plot(range(5,20),result,marker='*',color='b')\n",
    "plt.xlabel('Max_Depth')\n",
    "plt.ylabel('Accuracy in %')\n",
    "plt.title('Desicion Tree Analysis')\n",
    "optimal_depth = result.index(max(result)) + 1\n",
    "print(\"Maximum Accuracy optained by Decision_Tree_Classifier is {:.2f}%\".format(max(result)*100))"
   ]
  },
  {
   "cell_type": "code",
   "execution_count": 16,
   "metadata": {
    "collapsed": false
   },
   "outputs": [
    {
     "name": "stdout",
     "output_type": "stream",
     "text": [
      "Maximum Accuracy optained by Decision_Tree_Classifier is 55.39%\n"
     ]
    },
    {
     "data": {
      "image/png": "[encoded data removed]",
      "text/plain": [
       "<matplotlib.figure.Figure at 0x1b9eec18>"
      ]
     },
     "metadata": {},
     "output_type": "display_data"
    }
   ],
   "source": [
    "# implementing Support_Vector_Machine_Classifier\n",
    "# getting optimal value of C,gamma\n",
    "from sklearn.svm import SVC\n",
    "def Support_Vector_Machine_Classifier(c,g,predict):\n",
    "    clf = SVC(kernel='rbf',C=c,gamma=g)\n",
    "    clf.fit(x,y)\n",
    "    y_test_predictions = [predict(review,v,clf) for review in X_test]\n",
    "    return np.mean(y_test_predictions == y_test)\n",
    "\n",
    "result = []\n",
    "maxAccuracy,optimal_C_SVC,optimal_gamma = 0,0,0\n",
    "for g in [0.02,0.04,0.06,0.08]:\n",
    "    for c in [25,30,35,40]:\n",
    "        result.append(Support_Vector_Machine_Classifier(c,g,predict2))\n",
    "        if(result[-1]>maxAccuracy):\n",
    "            maxAccuracy,optimal_C_SVC,optimal_gamma = result[-1],c,g\n",
    "\n",
    "plt.imshow(np.array(result).reshape((4,-1)),cmap='hot',interpolation='nearest')\n",
    "plt.colorbar()\n",
    "plt.xlabel('C')\n",
    "plt.ylabel('gamma')\n",
    "plt.gca().set_xticks(range(4))\n",
    "plt.gca().set_yticks(range(4))\n",
    "plt.gca().set_xticklabels([25,30,35,40])\n",
    "plt.gca().set_yticklabels([0.02,0.04,0.06,0.08])\n",
    "plt.title('SVC Analysis')\n",
    "print(\"Maximum Accuracy optained by Decision_Tree_Classifier is {:.2f}%\".format(max(result)*100))"
   ]
  },
  {
   "cell_type": "markdown",
   "metadata": {},
   "source": [
    "# Making The Optimal Classfiers and Predict Function:"
   ]
  },
  {
   "cell_type": "code",
   "execution_count": 17,
   "metadata": {
    "collapsed": true
   },
   "outputs": [],
   "source": [
    "# training optimal classifiers\n",
    "knn = KNeighborsClassifier(n_neighbors=optimal_K_neighbors).fit(x,y)\n",
    "lr = LogisticRegression(C=optimal_C_LR).fit(x,y)\n",
    "dt = DecisionTreeClassifier(max_depth=optimal_depth).fit(x,y)\n",
    "svc = SVC(kernel='rbf',C=optimal_C_SVC,gamma=optimal_gamma).fit(x,y)"
   ]
  },
  {
   "cell_type": "code",
   "execution_count": 18,
   "metadata": {
    "collapsed": false
   },
   "outputs": [],
   "source": [
    "from collections import Counter\n",
    "def FinalPrediction(review):\n",
    "    result = [predict1(review,v,knn),predict2(review,v,lr),predict2(review,v,dt),predict2(review,v,svc)]\n",
    "    cnt = Counter()\n",
    "    for i in result:\n",
    "        cnt[i] += 1\n",
    "    ans = cnt.most_common(3)\n",
    "    if(ans[0][1]>=3):return ans[0][0]\n",
    "    if(ans[0][1]==2 and ans[1][1]==1):return ans[0][0]\n",
    "    cnt[result[0]] += 3\n",
    "    cnt[result[2]] += 2\n",
    "    cnt[result[3]] += 1\n",
    "    return cnt.most_common(1)[0][0]"
   ]
  },
  {
   "cell_type": "code",
   "execution_count": 19,
   "metadata": {
    "collapsed": false
   },
   "outputs": [
    {
     "name": "stdout",
     "output_type": "stream",
     "text": [
      "Accuracy of our Training Model is : 57.89%\n"
     ]
    }
   ],
   "source": [
    "finalAccuracy = np.mean([FinalPrediction(i) for i in X_test] == y_test)\n",
    "print(\"Accuracy of our Training Model is : {:.2f}%\".format(finalAccuracy*100))"
   ]
  },
  {
   "cell_type": "code",
   "execution_count": null,
   "metadata": {
    "collapsed": true
   },
   "outputs": [],
   "source": []
  }
 ],
 "metadata": {
  "anaconda-cloud": {},
  "kernelspec": {
   "display_name": "Python [conda root]",
   "language": "python",
   "name": "conda-root-py"
  },
  "language_info": {
   "codemirror_mode": {
    "name": "ipython",
    "version": 3
   },
   "file_extension": ".py",
   "mimetype": "text/x-python",
   "name": "python",
   "nbconvert_exporter": "python",
   "pygments_lexer": "ipython3",
   "version": "3.5.2"
  }
 },
 "nbformat": 4,
 "nbformat_minor": 1
}
